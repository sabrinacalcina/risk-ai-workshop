{
 "cells": [
  {
   "cell_type": "code",
   "execution_count": null,
   "metadata": {},
   "outputs": [],
   "source": [
    "import os\n",
    "from pathlib import Path\n",
    "\n",
    "from graphviz import Digraph, Graph\n",
    "\n",
    "import pandas as pd"
   ]
  },
  {
   "cell_type": "code",
   "execution_count": null,
   "metadata": {},
   "outputs": [],
   "source": [
    "project_root = Path(os.environ['PROJECT_ROOT'])\n",
    "datadir = project_root / 'notebooks' / 'data'\n",
    "slides_dir = project_root / 'slides'\n",
    "graphics_subdir_name = 'graphics'\n",
    "\n",
    "# Intro figure dir\n",
    "intro_figure_dir = slides_dir / 'ai-for-risk' / graphics_subdir_name\n",
    "# Discrete geometry figure directory\n",
    "dg_figure_dir = slides_dir / 'discrete-geometry' / graphics_subdir_name\n",
    "# Correlation and causation figure directory\n",
    "cc_figure_dir = slides_dir / 'correlation-causality' / graphics_subdir_name\n",
    "# Conclusion figure dir\n",
    "practice_figure_dir = slides_dir / 'risk-and-ai-in-practice' / graphics_subdir_name\n"
   ]
  },
  {
   "cell_type": "markdown",
   "metadata": {},
   "source": [
    "## Fake credit scoring data"
   ]
  },
  {
   "cell_type": "code",
   "execution_count": null,
   "metadata": {},
   "outputs": [],
   "source": [
    "df = pd.read_csv(datadir / 'default.csv')\n",
    "fn = practice_figure_dir / 'default.tex'\n",
    "\n",
    "table_head_tex = df.head(5).to_latex(index=False)\n",
    "with open(fn, 'w') as fb:\n",
    "    fb.write(table_head_tex)"
   ]
  },
  {
   "cell_type": "markdown",
   "metadata": {},
   "source": [
    "## Fake hit rates"
   ]
  },
  {
   "cell_type": "code",
   "execution_count": null,
   "metadata": {},
   "outputs": [],
   "source": [
    "df = pd.read_csv(datadir / 'hits.csv')\n",
    "fn = intro_figure_dir / 'hits.tex'\n",
    "\n",
    "table_head_tex = df.head(5).to_latex(index=False)\n",
    "for a_figure_dir in [intro_figure_dir, cc_figure_dir]:\n",
    "    fn = a_figure_dir / 'hits.tex'\n",
    "    with open(fn, 'w') as fb:\n",
    "        fb.write(table_head_tex)"
   ]
  },
  {
   "cell_type": "markdown",
   "metadata": {},
   "source": [
    "## Fake hit rate graphs"
   ]
  },
  {
   "cell_type": "markdown",
   "metadata": {},
   "source": [
    "## Fake Berkley admissions"
   ]
  },
  {
   "cell_type": "code",
   "execution_count": null,
   "metadata": {},
   "outputs": [],
   "source": [
    "\n",
    "df = pd.read_csv(datadir / 'fake_admissions.csv')\n",
    "fn = intro_figure_dir / 'fake_admissions.tex'\n",
    "\n",
    "table_head_tex = df.head(5).to_latex(index=False)\n",
    "with open(fn, 'w') as fb:\n",
    "    fb.write(table_head_tex)"
   ]
  },
  {
   "cell_type": "markdown",
   "metadata": {},
   "source": [
    "## Fake lightning"
   ]
  },
  {
   "cell_type": "code",
   "execution_count": null,
   "metadata": {},
   "outputs": [],
   "source": [
    "df = pd.read_csv(datadir / 'lightning.csv').head()\n",
    "fn = intro_figure_dir / 'lightning.tex'\n",
    "\n",
    "table_head_tex = df.head(5).to_latex(index=False)\n",
    "with open(fn, 'w') as fb:\n",
    "    fb.write(table_head_tex)"
   ]
  },
  {
   "cell_type": "markdown",
   "metadata": {},
   "source": [
    "## Fake karma"
   ]
  },
  {
   "cell_type": "code",
   "execution_count": null,
   "metadata": {},
   "outputs": [],
   "source": [
    "df = pd.read_csv(datadir / 'karma_weights.csv').head()\n",
    "fn = dg_figure_dir / 'karma_weights.tex'\n",
    "\n",
    "table_head_tex = df.head(5).to_latex(index=False)\n",
    "with open(fn, 'w') as fb:\n",
    "    fb.write(table_head_tex)"
   ]
  }
 ],
 "metadata": {
  "kernelspec": {
   "display_name": "Python 3",
   "language": "python",
   "name": "python3"
  },
  "language_info": {
   "codemirror_mode": {
    "name": "ipython",
    "version": 3
   },
   "file_extension": ".py",
   "mimetype": "text/x-python",
   "name": "python",
   "nbconvert_exporter": "python",
   "pygments_lexer": "ipython3",
   "version": "3.7.2"
  }
 },
 "nbformat": 4,
 "nbformat_minor": 4
}
