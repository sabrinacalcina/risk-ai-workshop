{
 "cells": [
  {
   "cell_type": "markdown",
   "metadata": {},
   "source": [
    "# Exercises for probability polytopes\n"
   ]
  },
  {
   "cell_type": "code",
   "execution_count": 2,
   "metadata": {},
   "outputs": [],
   "source": [
    "import os\n",
    "from pathlib import Path\n",
    "\n",
    "from itertools import product\n",
    "from math import floor\n",
    "\n",
    "import numpy as np\n",
    "import pandas as pd\n",
    "\n",
    "import matplotlib.pyplot as plt\n",
    "\n",
    "%matplotlib inline"
   ]
  },
  {
   "cell_type": "markdown",
   "metadata": {},
   "source": [
    "## Probability polytopes exercise: probability simplex\n",
    "\n",
    "* Describe in words and mathematical notation what the method `fake_data_for_learning.utils.get_simplex_sample` does. Difficulty: *\n",
    "\n",
    "* Test if the method `fake_data_for_learning.utils.get_simplex_sample` generates uniformly distributed samples from the probability simplex. Difficulty: **\n",
    "\n",
    "* Test if projecting samples to individual coordinate axes is uniformly distributed. Difficulty: **\n",
    "\n",
    "Answer the same questions for the following two versions. Be sure to consider more than one choice of ambient dimension."
   ]
  },
  {
   "cell_type": "code",
   "execution_count": 3,
   "metadata": {},
   "outputs": [],
   "source": [
    "def get_simplex_sample_v1(ambient_dimension):\n",
    "    \"\"\"\n",
    "    Get random element of the simplex of given ambient dimension\n",
    "\n",
    "    Parameters\n",
    "    ----------\n",
    "    ambient_dimension : int\n",
    "\n",
    "    Returns\n",
    "    -------\n",
    "    res : np.array\n",
    "    \"\"\"\n",
    "\n",
    "    res = np.random.uniform(size=ambient_dimension)\n",
    "    res = res / res.sum()\n",
    "\n",
    "    return res\n",
    "\n",
    "\n",
    "def get_simplex_sample_v2(ambient_dimension):\n",
    "    \"\"\"\n",
    "    Get random element of the probability simplex\n",
    "\n",
    "    Parameters\n",
    "    ----------\n",
    "    ambient_dimension : int\n",
    "\n",
    "    Returns\n",
    "    -------\n",
    "    res : np.array\n",
    "    \"\"\"\n",
    "\n",
    "    res = np.random.uniform(size=ambient_dimension-1)\n",
    "    res = np.sort(res)\n",
    "    res = np.insert(res, 0, 0)\n",
    "    res = np.append(res, 1)\n",
    "    res = np.diff(res)\n",
    "    \n",
    "    return res"
   ]
  }
 ],
 "metadata": {
  "kernelspec": {
   "display_name": "Python 3",
   "language": "python",
   "name": "python3"
  },
  "language_info": {
   "codemirror_mode": {
    "name": "ipython",
    "version": 3
   },
   "file_extension": ".py",
   "mimetype": "text/x-python",
   "name": "python",
   "nbconvert_exporter": "python",
   "pygments_lexer": "ipython3",
   "version": "3.7.2"
  }
 },
 "nbformat": 4,
 "nbformat_minor": 2
}
