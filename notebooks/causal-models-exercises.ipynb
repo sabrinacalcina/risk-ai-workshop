{
 "cells": [
  {
   "cell_type": "markdown",
   "metadata": {},
   "source": [
    "# Examples and exercises for causal models"
   ]
  },
  {
   "cell_type": "code",
   "execution_count": 7,
   "metadata": {},
   "outputs": [],
   "source": [
    "import os\n",
    "from pathlib import Path\n",
    "\n",
    "import numpy as np\n",
    "import pandas as pd\n",
    "import xarray as xr\n",
    "\n",
    "# Only needed to generate graphs, may be safely ommitted \n",
    "# once you comment out relevant cells below\n",
    "from graphviz import Digraph\n",
    "from brent import DAG, Query\n"
   ]
  },
  {
   "cell_type": "code",
   "execution_count": 8,
   "metadata": {},
   "outputs": [
    {
     "data": {
      "text/plain": [
       "WindowsPath('C:/Users/Sabrina Calcina/Documents/GitHub/risk-ai-workshop/notebooks/data')"
      ]
     },
     "execution_count": 8,
     "metadata": {},
     "output_type": "execute_result"
    }
   ],
   "source": [
    "datadir = Path(os.getcwd()) / 'data'\n",
    "datadir"
   ]
  },
  {
   "cell_type": "markdown",
   "metadata": {},
   "source": [
    "## Causal model example: hit rate"
   ]
  },
  {
   "cell_type": "code",
   "execution_count": 14,
   "metadata": {},
   "outputs": [
    {
     "name": "stdout",
     "output_type": "stream",
     "text": [
      "(5389, 4)\n"
     ]
    },
    {
     "data": {
      "text/html": [
       "<div>\n",
       "<style scoped>\n",
       "    .dataframe tbody tr th:only-of-type {\n",
       "        vertical-align: middle;\n",
       "    }\n",
       "\n",
       "    .dataframe tbody tr th {\n",
       "        vertical-align: top;\n",
       "    }\n",
       "\n",
       "    .dataframe thead th {\n",
       "        text-align: right;\n",
       "    }\n",
       "</style>\n",
       "<table border=\"1\" class=\"dataframe\">\n",
       "  <thead>\n",
       "    <tr style=\"text-align: right;\">\n",
       "      <th></th>\n",
       "      <th>product_type</th>\n",
       "      <th>days</th>\n",
       "      <th>rating</th>\n",
       "      <th>hit</th>\n",
       "    </tr>\n",
       "  </thead>\n",
       "  <tbody>\n",
       "    <tr>\n",
       "      <th>0</th>\n",
       "      <td>property</td>\n",
       "      <td>3</td>\n",
       "      <td>1</td>\n",
       "      <td>0</td>\n",
       "    </tr>\n",
       "    <tr>\n",
       "      <th>1</th>\n",
       "      <td>liability</td>\n",
       "      <td>1</td>\n",
       "      <td>0</td>\n",
       "      <td>0</td>\n",
       "    </tr>\n",
       "    <tr>\n",
       "      <th>2</th>\n",
       "      <td>financial</td>\n",
       "      <td>0</td>\n",
       "      <td>1</td>\n",
       "      <td>0</td>\n",
       "    </tr>\n",
       "    <tr>\n",
       "      <th>3</th>\n",
       "      <td>liability</td>\n",
       "      <td>3</td>\n",
       "      <td>0</td>\n",
       "      <td>0</td>\n",
       "    </tr>\n",
       "    <tr>\n",
       "      <th>4</th>\n",
       "      <td>liability</td>\n",
       "      <td>0</td>\n",
       "      <td>0</td>\n",
       "      <td>1</td>\n",
       "    </tr>\n",
       "  </tbody>\n",
       "</table>\n",
       "</div>"
      ],
      "text/plain": [
       "  product_type  days  rating  hit\n",
       "0     property     3       1    0\n",
       "1    liability     1       0    0\n",
       "2    financial     0       1    0\n",
       "3    liability     3       0    0\n",
       "4    liability     0       0    1"
      ]
     },
     "execution_count": 14,
     "metadata": {},
     "output_type": "execute_result"
    }
   ],
   "source": [
    "df = pd.read_csv(datadir / 'hits.csv')\n",
    "print(df.shape)\n",
    "df.head()"
   ]
  },
  {
   "cell_type": "code",
   "execution_count": 17,
   "metadata": {},
   "outputs": [],
   "source": [
    "import os\n",
    "import graphviz\n",
    "os.environ[\"PATH\"] += os.pathsep + 'C:/Program Files (x86)/Graphviz/bin/'\n",
    "graph_data = \"your  graph data\"\n",
    "fie_ext = 'png'\n",
    "temp_img = 'temp_file'\n",
    "temp_img_name = \"\".join([temp_img, '.'+fie_ext])\n",
    "my_graph= graphviz.Source(graph_data)\n",
    "\n",
    "dag = DAG(df).add_edge('product_type', 'rating').add_edge('product_type', 'days')\\\n",
    "    .add_edge('rating', 'hit').add_edge('days', 'hit')\n",
    "\n",
    "\n",
    "dag.plot()"
   ]
  },
  {
   "cell_type": "code",
   "execution_count": 23,
   "metadata": {},
   "outputs": [],
   "source": [
    "q_given = Query(dag).given(days=1)\n",
    "dot = q_given.plot()\n"
   ]
  },
  {
   "cell_type": "code",
   "execution_count": 21,
   "metadata": {},
   "outputs": [],
   "source": [
    "q_do = Query(dag).do(days=1)\n",
    "dot = q_do.plot()\n",
    "dot"
   ]
  },
  {
   "cell_type": "code",
   "execution_count": 24,
   "metadata": {},
   "outputs": [
    {
     "name": "stdout",
     "output_type": "stream",
     "text": [
      "Probability of hit given days=d\n"
     ]
    },
    {
     "data": {
      "text/plain": [
       "days\n",
       "0    0.550918\n",
       "1    0.440580\n",
       "2    0.288714\n",
       "3    0.206360\n",
       "Name: hit, dtype: float64"
      ]
     },
     "execution_count": 24,
     "metadata": {},
     "output_type": "execute_result"
    }
   ],
   "source": [
    "# P(H=1 | D=d)\n",
    "hit_given_d = df.groupby(['days'])\n",
    "hit_given_d = hit_given_d['hit'].mean()\n",
    "print('Probability of hit given days=d')\n",
    "hit_given_d"
   ]
  },
  {
   "cell_type": "code",
   "execution_count": 25,
   "metadata": {},
   "outputs": [
    {
     "data": {
      "text/plain": [
       "product_type  rating  days\n",
       "financial     0       0       0.827586\n",
       "                      1       0.857143\n",
       "                      2       0.714286\n",
       "                      3       0.250000\n",
       "              1       0       0.317136\n",
       "                      1       0.250000\n",
       "                      2       0.027778\n",
       "                      3       0.000000\n",
       "liability     0       0       0.799784\n",
       "                      1       0.585915\n",
       "                      2       0.530686\n",
       "                      3       0.394040\n",
       "              1       0       0.296954\n",
       "                      1       0.200000\n",
       "                      2       0.041322\n",
       "                      3       0.031746\n",
       "property      0       0       0.725000\n",
       "                      1       0.653846\n",
       "                      2       0.430894\n",
       "                      3       0.421659\n",
       "              1       0       0.358491\n",
       "                      1       0.186667\n",
       "                      2       0.045455\n",
       "                      3       0.016975\n",
       "Name: hit, dtype: float64"
      ]
     },
     "execution_count": 25,
     "metadata": {},
     "output_type": "execute_result"
    }
   ],
   "source": [
    "# P(H=1 | do(D)=d) = \\sum P(H=1 | D=d, P=p, R=r) * P(P=p, R=r)\n",
    "# First term in sum\n",
    "hit_given_prd = df.groupby(['product_type', 'rating', 'days'])\n",
    "hit_given_prd = hit_given_prd['hit'].mean()\n",
    "hit_given_prd"
   ]
  },
  {
   "cell_type": "code",
   "execution_count": 26,
   "metadata": {},
   "outputs": [
    {
     "data": {
      "text/plain": [
       "product_type  rating\n",
       "financial     0         0.041009\n",
       "              1         0.163481\n",
       "liability     0         0.344776\n",
       "              1         0.149564\n",
       "property      0         0.120431\n",
       "              1         0.180739\n",
       "Name: hit, dtype: float64"
      ]
     },
     "execution_count": 26,
     "metadata": {},
     "output_type": "execute_result"
    }
   ],
   "source": [
    "# 2nd sum in P(H=1 | do(D)=1)\n",
    "pr = df.groupby(['product_type', 'rating'])\n",
    "p_pr = pr['hit'].count()\n",
    "p_pr = p_pr / df.shape[0]\n",
    "p_pr"
   ]
  },
  {
   "cell_type": "code",
   "execution_count": 27,
   "metadata": {},
   "outputs": [
    {
     "name": "stdout",
     "output_type": "stream",
     "text": [
      "Probability of hit do days=d:\n"
     ]
    },
    {
     "data": {
      "text/plain": [
       "days\n",
       "0    0.558050\n",
       "1    0.420425\n",
       "2    0.283090\n",
       "3    0.204705\n",
       "Name: prob, dtype: float64"
      ]
     },
     "execution_count": 27,
     "metadata": {},
     "output_type": "execute_result"
    }
   ],
   "source": [
    "# Combine\n",
    "hit_given_prd = hit_given_prd.reset_index()\n",
    "p_pr = p_pr.reset_index()\n",
    "res = pd.merge(hit_given_prd, p_pr, on=['product_type', 'rating'])\n",
    "res['prob'] = res['hit_x'] * res['hit_y']\n",
    "res = res.groupby('days')\n",
    "res = res['prob'].sum()\n",
    "print('Probability of hit do days=d:')\n",
    "res"
   ]
  },
  {
   "cell_type": "markdown",
   "metadata": {},
   "source": [
    "## Causal models exercise: correlation\n",
    "\n",
    "Reproduce and try to break the spurious correlation between deaths by poisonous spider bites and the lenghts of winning words in the Scripps national spelling bee.\n",
    "\n",
    "The fatality data from the CDC can be found here: `notebooks/data/cdc-underlying-cause-of-death-1998-2018.txt`, and the spelling bee data can be found below.\n",
    "\n",
    "Difficulty: **"
   ]
  },
  {
   "cell_type": "code",
   "execution_count": 31,
   "metadata": {
    "scrolled": true
   },
   "outputs": [
    {
     "name": "stdout",
     "output_type": "stream",
     "text": [
      "(1557, 8)\n"
     ]
    },
    {
     "data": {
      "text/html": [
       "<div>\n",
       "<style scoped>\n",
       "    .dataframe tbody tr th:only-of-type {\n",
       "        vertical-align: middle;\n",
       "    }\n",
       "\n",
       "    .dataframe tbody tr th {\n",
       "        vertical-align: top;\n",
       "    }\n",
       "\n",
       "    .dataframe thead th {\n",
       "        text-align: right;\n",
       "    }\n",
       "</style>\n",
       "<table border=\"1\" class=\"dataframe\">\n",
       "  <thead>\n",
       "    <tr style=\"text-align: right;\">\n",
       "      <th></th>\n",
       "      <th>Notes</th>\n",
       "      <th>Year</th>\n",
       "      <th>Year Code</th>\n",
       "      <th>Cause of death</th>\n",
       "      <th>Cause of death Code</th>\n",
       "      <th>Deaths</th>\n",
       "      <th>Population</th>\n",
       "      <th>Crude Rate</th>\n",
       "    </tr>\n",
       "  </thead>\n",
       "  <tbody>\n",
       "    <tr>\n",
       "      <th>57</th>\n",
       "      <td>NaN</td>\n",
       "      <td>1999.0</td>\n",
       "      <td>1999.0</td>\n",
       "      <td>Contact with venomous spiders</td>\n",
       "      <td>X21</td>\n",
       "      <td>6.0</td>\n",
       "      <td>279040168.0</td>\n",
       "      <td>Unreliable</td>\n",
       "    </tr>\n",
       "    <tr>\n",
       "      <th>135</th>\n",
       "      <td>NaN</td>\n",
       "      <td>2000.0</td>\n",
       "      <td>2000.0</td>\n",
       "      <td>Contact with venomous spiders</td>\n",
       "      <td>X21</td>\n",
       "      <td>5.0</td>\n",
       "      <td>281421906.0</td>\n",
       "      <td>Unreliable</td>\n",
       "    </tr>\n",
       "    <tr>\n",
       "      <th>215</th>\n",
       "      <td>NaN</td>\n",
       "      <td>2001.0</td>\n",
       "      <td>2001.0</td>\n",
       "      <td>Contact with venomous spiders</td>\n",
       "      <td>X21</td>\n",
       "      <td>5.0</td>\n",
       "      <td>284968955.0</td>\n",
       "      <td>Unreliable</td>\n",
       "    </tr>\n",
       "    <tr>\n",
       "      <th>289</th>\n",
       "      <td>NaN</td>\n",
       "      <td>2002.0</td>\n",
       "      <td>2002.0</td>\n",
       "      <td>Contact with venomous spiders</td>\n",
       "      <td>X21</td>\n",
       "      <td>10.0</td>\n",
       "      <td>287625193.0</td>\n",
       "      <td>Unreliable</td>\n",
       "    </tr>\n",
       "    <tr>\n",
       "      <th>364</th>\n",
       "      <td>NaN</td>\n",
       "      <td>2003.0</td>\n",
       "      <td>2003.0</td>\n",
       "      <td>Contact with venomous spiders</td>\n",
       "      <td>X21</td>\n",
       "      <td>8.0</td>\n",
       "      <td>290107933.0</td>\n",
       "      <td>Unreliable</td>\n",
       "    </tr>\n",
       "  </tbody>\n",
       "</table>\n",
       "</div>"
      ],
      "text/plain": [
       "    Notes    Year  Year Code                 Cause of death  \\\n",
       "57    NaN  1999.0     1999.0  Contact with venomous spiders   \n",
       "135   NaN  2000.0     2000.0  Contact with venomous spiders   \n",
       "215   NaN  2001.0     2001.0  Contact with venomous spiders   \n",
       "289   NaN  2002.0     2002.0  Contact with venomous spiders   \n",
       "364   NaN  2003.0     2003.0  Contact with venomous spiders   \n",
       "\n",
       "    Cause of death Code  Deaths   Population  Crude Rate  \n",
       "57                  X21     6.0  279040168.0  Unreliable  \n",
       "135                 X21     5.0  281421906.0  Unreliable  \n",
       "215                 X21     5.0  284968955.0  Unreliable  \n",
       "289                 X21    10.0  287625193.0  Unreliable  \n",
       "364                 X21     8.0  290107933.0  Unreliable  "
      ]
     },
     "execution_count": 31,
     "metadata": {},
     "output_type": "execute_result"
    }
   ],
   "source": []
  },
  {
   "cell_type": "code",
   "execution_count": 32,
   "metadata": {},
   "outputs": [],
   "source": [
    "# From https://en.wiktionary.org/wiki/Appendix:Scripps_winning_words\n",
    "scripps_winners_raw = '''\n",
    "    1925: gladiolus\n",
    "    1926: abrogate\n",
    "    1927: luxuriance\n",
    "    1928: albumen\n",
    "    1929: asceticism\n",
    "    1930: fracas\n",
    "    1931: foulard\n",
    "    1932: knack\n",
    "    1933: torsion\n",
    "    1934: deteriorating\n",
    "    1935: intelligible\n",
    "    1936: interning\n",
    "    1937: promiscuous\n",
    "    1938: sanitarium\n",
    "    1939: canonical\n",
    "    1940: therapy\n",
    "    1941: initials\n",
    "    1942: sacrilegious\n",
    "\n",
    "The Bee was suspended during the WWII years of 1943–1945.\n",
    "\n",
    "    1946: semaphore\n",
    "    1947: chlorophyll\n",
    "    1948: psychiatry\n",
    "    1949: dulcimer\n",
    "    1950: meerschaum [1] / meticulosity\n",
    "    1951: insouciant\n",
    "    1952: vignette\n",
    "    1953: soubrette\n",
    "    1954: transept\n",
    "    1955: crustaceology\n",
    "    1956: condominium\n",
    "    1957: n/a [2]\n",
    "    1958: syllepsis\n",
    "    1959: catamaran\n",
    "    1960: eudaemonic\n",
    "    1961: smaragdine\n",
    "    1962: n/a [3]\n",
    "    1963: equipage\n",
    "    1964: sycophant\n",
    "    1965: eczema\n",
    "    1966: ratoon\n",
    "    1967: chihuahua\n",
    "    1968: abalone\n",
    "    1969: interlocutory\n",
    "    1970: croissant\n",
    "    1971: shalloon\n",
    "    1972: macerate\n",
    "\n",
    "    1973: vouchsafe\n",
    "    1974: hydrophyte\n",
    "    1975: incisor\n",
    "    1976: narcolepsy\n",
    "    1977: cambist\n",
    "    1978: deification\n",
    "    1979: maculature\n",
    "    1980: elucubrate\n",
    "    1981: sarcophagus\n",
    "    1982: psoriasis\n",
    "    1983: Purim\n",
    "    1984: luge\n",
    "    1985: milieu\n",
    "    1986: odontalgia\n",
    "    1987: staphylococci\n",
    "    1988: elegiacal\n",
    "    1989: spoliator\n",
    "    1990: fibranne\n",
    "    1991: antipyretic\n",
    "    1992: lyceum\n",
    "    1993: kamikaze\n",
    "    1994: antediluvian\n",
    "    1995: xanthosis\n",
    "    1996: vivisepulture\n",
    "    1997: euonym\n",
    "    1998: chiaroscurist\n",
    "    1999: logorrhea\n",
    "    2000: demarche\n",
    "    2001: succedaneum\n",
    "    2002: prospicience\n",
    "    2003: pococurante\n",
    "    2004: autochthonous\n",
    "    2005: appoggiatura\n",
    "    2006: Ursprache\n",
    "    2007: serrefine\n",
    "    2008: guerdon\n",
    "    2009: Laodicean\n",
    "    2010: stromuhr\n",
    "    2011: cymotrichous\n",
    "    2012: guetapens\n",
    "    2013: knaidel\n",
    "    2014: stichomythia / feuilleton\n",
    "    2015: scherenschnitte / nunatak\n",
    "    2016: Feldenkrais / gesellschaft\n",
    "    2017: marocain\n",
    "    2018: koinonia\n",
    "    2019: auslaut / erysipelas / bougainvillea [4] / aiguillette / pendeloque / palama / cernuous / odylic\n",
    "'''\n",
    "\n",
    "\n"
   ]
  },
  {
   "cell_type": "code",
   "execution_count": 47,
   "metadata": {},
   "outputs": [
    {
     "name": "stdout",
     "output_type": "stream",
     "text": [
      "(1557, 8)\n"
     ]
    },
    {
     "data": {
      "text/html": [
       "<div>\n",
       "<style scoped>\n",
       "    .dataframe tbody tr th:only-of-type {\n",
       "        vertical-align: middle;\n",
       "    }\n",
       "\n",
       "    .dataframe tbody tr th {\n",
       "        vertical-align: top;\n",
       "    }\n",
       "\n",
       "    .dataframe thead th {\n",
       "        text-align: right;\n",
       "    }\n",
       "</style>\n",
       "<table border=\"1\" class=\"dataframe\">\n",
       "  <thead>\n",
       "    <tr style=\"text-align: right;\">\n",
       "      <th></th>\n",
       "      <th>Notes</th>\n",
       "      <th>Year</th>\n",
       "      <th>Year Code</th>\n",
       "      <th>Cause of death</th>\n",
       "      <th>Cause of death Code</th>\n",
       "      <th>Deaths</th>\n",
       "      <th>Population</th>\n",
       "      <th>Crude Rate</th>\n",
       "    </tr>\n",
       "  </thead>\n",
       "  <tbody>\n",
       "    <tr>\n",
       "      <th>57</th>\n",
       "      <td>NaN</td>\n",
       "      <td>1999.0</td>\n",
       "      <td>1999.0</td>\n",
       "      <td>Contact with venomous spiders</td>\n",
       "      <td>X21</td>\n",
       "      <td>6.0</td>\n",
       "      <td>279040168.0</td>\n",
       "      <td>Unreliable</td>\n",
       "    </tr>\n",
       "    <tr>\n",
       "      <th>135</th>\n",
       "      <td>NaN</td>\n",
       "      <td>2000.0</td>\n",
       "      <td>2000.0</td>\n",
       "      <td>Contact with venomous spiders</td>\n",
       "      <td>X21</td>\n",
       "      <td>5.0</td>\n",
       "      <td>281421906.0</td>\n",
       "      <td>Unreliable</td>\n",
       "    </tr>\n",
       "    <tr>\n",
       "      <th>215</th>\n",
       "      <td>NaN</td>\n",
       "      <td>2001.0</td>\n",
       "      <td>2001.0</td>\n",
       "      <td>Contact with venomous spiders</td>\n",
       "      <td>X21</td>\n",
       "      <td>5.0</td>\n",
       "      <td>284968955.0</td>\n",
       "      <td>Unreliable</td>\n",
       "    </tr>\n",
       "    <tr>\n",
       "      <th>289</th>\n",
       "      <td>NaN</td>\n",
       "      <td>2002.0</td>\n",
       "      <td>2002.0</td>\n",
       "      <td>Contact with venomous spiders</td>\n",
       "      <td>X21</td>\n",
       "      <td>10.0</td>\n",
       "      <td>287625193.0</td>\n",
       "      <td>Unreliable</td>\n",
       "    </tr>\n",
       "    <tr>\n",
       "      <th>364</th>\n",
       "      <td>NaN</td>\n",
       "      <td>2003.0</td>\n",
       "      <td>2003.0</td>\n",
       "      <td>Contact with venomous spiders</td>\n",
       "      <td>X21</td>\n",
       "      <td>8.0</td>\n",
       "      <td>290107933.0</td>\n",
       "      <td>Unreliable</td>\n",
       "    </tr>\n",
       "  </tbody>\n",
       "</table>\n",
       "</div>"
      ],
      "text/plain": [
       "    Notes    Year  Year Code                 Cause of death  \\\n",
       "57    NaN  1999.0     1999.0  Contact with venomous spiders   \n",
       "135   NaN  2000.0     2000.0  Contact with venomous spiders   \n",
       "215   NaN  2001.0     2001.0  Contact with venomous spiders   \n",
       "289   NaN  2002.0     2002.0  Contact with venomous spiders   \n",
       "364   NaN  2003.0     2003.0  Contact with venomous spiders   \n",
       "\n",
       "    Cause of death Code  Deaths   Population  Crude Rate  \n",
       "57                  X21     6.0  279040168.0  Unreliable  \n",
       "135                 X21     5.0  281421906.0  Unreliable  \n",
       "215                 X21     5.0  284968955.0  Unreliable  \n",
       "289                 X21    10.0  287625193.0  Unreliable  \n",
       "364                 X21     8.0  290107933.0  Unreliable  "
      ]
     },
     "execution_count": 47,
     "metadata": {},
     "output_type": "execute_result"
    }
   ],
   "source": [
    "data = pd.read_csv( datadir / \"cdc-underlying-cause-of-death-1998-2018.txt\", sep = \"\\t\")\n",
    "print(data.shape)\n",
    "data.head()\n",
    "\n",
    "data[\"Cause of death\"].unique()\n",
    "a = data[data[\"Cause of death\"] == 'Contact with venomous spiders']\n",
    "a.head()\n"
   ]
  },
  {
   "cell_type": "code",
   "execution_count": 57,
   "metadata": {},
   "outputs": [
    {
     "name": "stdout",
     "output_type": "stream",
     "text": [
      "           0                                                  1\n",
      "0                                                          None\n",
      "1       1925                                          gladiolus\n",
      "2       1926                                           abrogate\n",
      "3       1927                                         luxuriance\n",
      "4       1928                                            albumen\n",
      "..       ...                                                ...\n",
      "93      2016                         Feldenkrais / gesellschaft\n",
      "94      2017                                           marocain\n",
      "95      2018                                           koinonia\n",
      "96      2019   auslaut / erysipelas / bougainvillea [4] / ai...\n",
      "97                                                         None\n",
      "\n",
      "[98 rows x 2 columns]\n"
     ]
    }
   ],
   "source": [
    "data2 = scripps_winners_raw.split(\"\\n\")\n",
    "\n",
    "sez = []\n",
    "for element in data2:\n",
    "    element.replace(\" \", \"\")\n",
    "    element.replace(\"The Bee was suspended during the WWII years of 1943–1945.\", \"\")\n",
    "    sez.append(element.split(\":\"))\n",
    "\n",
    "data22 = pd.DataFrame(sez)    \n",
    "    \n",
    "print(data22)\n",
    "\n",
    "    \n",
    "    \n"
   ]
  },
  {
   "cell_type": "markdown",
   "metadata": {},
   "source": [
    "## Causal models exercise: do-calculus\n",
    "\n",
    "As before, take K to be your Karma, H to be the hours you spend in the gym lifting weight, and then W be the weight you can bench press. \n",
    "\n",
    "You are the parent of a very young child, so Karma will punish you for devoting too much time to your triceps and neglecting your partner and baby. Let $G$ be this causal graph, as shown below."
   ]
  },
  {
   "cell_type": "code",
   "execution_count": 30,
   "metadata": {},
   "outputs": [],
   "source": [
    "dot = Digraph(engine='neato')\n",
    "dot.attr('node')\n",
    "dot.node('K')\n",
    "dot.node('H')\n",
    "dot.node('W')\n",
    "\n",
    "dot.edge('K', 'H')\n",
    "dot.edge('K', 'W')\n",
    "dot.edge('H', 'W')\n",
    "\n",
    "#dot"
   ]
  },
  {
   "cell_type": "markdown",
   "metadata": {},
   "source": [
    "1. Draw the graphs $G_\\underline{W}$ and $G_\\overline{H}$. Difficulty: *A\n",
    "2. Write out formulas for $P(W=1 | H=1)$ and $P(W=1|\\, \\mathrm{do}(H) = 1)$. Difficulty: **\n",
    "\n",
    "3. Calculate $P(W=1 | H=1)$ and $P(W=1|\\, \\mathrm{do}(H) = 1)$ for a Bayesian network fitted to the sample data from $(K, H, W)$ in `notebooks/data/karma_weights.csv`. Hint: the `Query` class of [https://koaning.github.io/brent/](https://koaning.github.io/brent/) can be used. Interpret the results in a qualitative way, i.e. how do you think Karma should work in this situation? Difficulty: **"
   ]
  },
  {
   "cell_type": "code",
   "execution_count": null,
   "metadata": {},
   "outputs": [],
   "source": [
    "#G_W\n",
    "dotw = Digraph(engine='neato')\n",
    "dotw.attr('node')\n",
    "dotw.node('K')\n",
    "dotw.node('H')\n",
    "dotw.node('W')\n",
    "dotw.edge('K', 'H')\n",
    "\n",
    "#G_h\n",
    "doth = Digraph(engine='neato')\n",
    "doth.attr('node')\n",
    "doth.node('K')\n",
    "doth.node('H')\n",
    "doth.node('W')\n",
    "\n",
    "doth.edge('K', 'H')\n",
    "doth.edge('K', 'W')\n"
   ]
  },
  {
   "cell_type": "markdown",
   "metadata": {},
   "source": [
    "## Causal models exercise: Causal calculus\n",
    "\n",
    "Prove in gory detail that the special case of Causal rule 3 holds. Difficulty: *"
   ]
  }
 ],
 "metadata": {
  "kernelspec": {
   "display_name": "Python 3",
   "language": "python",
   "name": "python3"
  },
  "language_info": {
   "codemirror_mode": {
    "name": "ipython",
    "version": 3
   },
   "file_extension": ".py",
   "mimetype": "text/x-python",
   "name": "python",
   "nbconvert_exporter": "python",
   "pygments_lexer": "ipython3",
   "version": "3.7.2"
  }
 },
 "nbformat": 4,
 "nbformat_minor": 2
}
